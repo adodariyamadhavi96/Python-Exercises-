{
 "cells": [
  {
   "cell_type": "code",
   "execution_count": null,
   "metadata": {
    "id": "gtlAv2oq9yzd"
   },
   "outputs": [],
   "source": [
    "#Write a Python program to find the sum of all elements in a list using loop.\n",
    "#Input:- [10,20,30,40]\n",
    "#Output:- 100\n",
    "\n",
    "list1 = [10,20,30,40]\n",
    "totle = 0\n",
    "for i in list1:\n",
    "    totle = i + totle\n",
    "print(totle)"
   ]
  },
  {
   "cell_type": "code",
   "execution_count": 2,
   "metadata": {
    "id": "gTbA8psa93Y_"
   },
   "outputs": [
    {
     "name": "stdout",
     "output_type": "stream",
     "text": [
      "240000\n"
     ]
    }
   ],
   "source": [
    "#Write a Python program to find the multiplication of all elements in a list using loop.\n",
    "#Input:- [10,20,30,40]\n",
    "#Output:- 240000\n",
    "list1 = [10,20,30,40]\n",
    "mul = 1\n",
    "for i in list1:\n",
    "    mul = i * mul\n",
    "print(mul)\n",
    "\n"
   ]
  },
  {
   "cell_type": "code",
   "execution_count": 10,
   "metadata": {
    "id": "XBCrEtLN94Lj"
   },
   "outputs": [
    {
     "name": "stdout",
     "output_type": "stream",
     "text": [
      "2321\n",
      "1\n"
     ]
    }
   ],
   "source": [
    "#Write a Python program to find the largest number from a list using loop.\n",
    "#Input:- [10,100,2321, 1,200,2]\n",
    "#Output:- 2321\n",
    "list1 = [10,100,2321, 1,200,2]\n",
    "maxn = list1[0]\n",
    "for i in range(len(list1)):\n",
    "    if list1[i] >= maxn:\n",
    "        maxn = list1[i]\n",
    "print(maxn)\n",
    "\n",
    "minnum = min(list1)\n",
    "print(minnum)"
   ]
  },
  {
   "cell_type": "code",
   "execution_count": 11,
   "metadata": {
    "id": "l3paUtbH94Vw"
   },
   "outputs": [
    {
     "name": "stdout",
     "output_type": "stream",
     "text": [
      "1\n"
     ]
    }
   ],
   "source": [
    "#Write a Python program to find the smallest number from a list using loop.\n",
    "#Input:- [10,100,2321, 1,200,2]\n",
    "#Output:- 1\n",
    "list1 = [10,100,2321, 1,200,2]\n",
    "minn = list1[0]\n",
    "# print(list1[0])\n",
    "for i in range(len(list1)):\n",
    "    if list1[i] <= minn:\n",
    "        minn = list1[i]\n",
    "\n",
    "print(minn)\n",
    "\n"
   ]
  },
  {
   "cell_type": "code",
   "execution_count": 14,
   "metadata": {
    "id": "JTVgy5VD94cE"
   },
   "outputs": [
    {
     "name": "stdout",
     "output_type": "stream",
     "text": [
      "2\n"
     ]
    }
   ],
   "source": [
    "#Write a Python program to count the number of strings having length more than 2 and are palindrome in a list using loop.\n",
    "#Input:- ['ab', 'abc', 'aba', 'xyz', '1991']\n",
    "#Output:- 2\n",
    "list1 = ['ab', 'abc', 'aba', 'xyz', '1991']\n",
    "\n",
    "count = 0\n",
    "\n",
    "for i in list1:\n",
    "    if len(i) > 2 and i == i[::-1]:\n",
    "            count += 1\n",
    "print(count)"
   ]
  },
  {
   "cell_type": "code",
   "execution_count": 15,
   "metadata": {
    "id": "xs-ZGJbJ94gr"
   },
   "outputs": [
    {
     "name": "stdout",
     "output_type": "stream",
     "text": [
      "[1, 2, 9, 10, 65, 80, 100, 298, 483, 9213, 49876]\n"
     ]
    }
   ],
   "source": [
    "#Write a Python program to sort a list in ascending order using loop.\n",
    "#Input:- [100,10,1,298,65,483,49876,2,80,9,9213]\n",
    "#Output:- [1,2,9,10,65,80,100,298,483,9213,49876]\n",
    "\n",
    "list1 = [100,10,1,298,65,483,49876,2,80,9,9213]\n",
    "temp = 0\n",
    "for i in range(0,len(list1)):\n",
    "    for j in range(i+1,len(list1)):\n",
    "    \n",
    "        if list1[i] >= list1[j]:\n",
    "            temp = list1[i]\n",
    "            list1[i] = list1[j]\n",
    "            list1[j] = temp\n",
    "            \n",
    "print(list1)    \n",
    "    \n",
    "\n"
   ]
  },
  {
   "cell_type": "code",
   "execution_count": 4,
   "metadata": {
    "id": "VhKQJizZ94kg"
   },
   "outputs": [
    {
     "name": "stdout",
     "output_type": "stream",
     "text": [
      "[(9, 1), (2, 3), (5, 4), (5, 5), (7, 6), (5, 9)]\n"
     ]
    }
   ],
   "source": [
    "#Write a Python program to get a sorted list in increasing order of last element in each tuple in a given list using loop.\n",
    "#Input:- [(5,4),(9,1),(2,3),(5,9),(7,6),(5,5)]\n",
    "#output:- [(9,1),(2,3),(5,4),(5,5),(7,6),(5,9)]\n",
    "\n",
    "list1 = [(5,4),(9,1),(2,3),(5,9),(7,6),(5,5)]\n",
    "temp = 0\n",
    "for i in range(len(list1)):\n",
    "    \n",
    "    for j in range(len(list1)-i-1):\n",
    "        if list1[j][-1] >= list1[j+1][-1]:\n",
    "            temp = list1[j]\n",
    "            list1[j] = list1[j+1]\n",
    "            list1[j+1] = temp\n",
    "print(list1)\n",
    "       \n",
    "        \n"
   ]
  },
  {
   "cell_type": "code",
   "execution_count": null,
   "metadata": {
    "id": "YJrCLYp694n_"
   },
   "outputs": [],
   "source": [
    "#Write a Python program to remove duplicate element from a list using loop.\n",
    "#Input:- [10,1,11,1,29,876,768,10,11,1,92,29,876]\n",
    "#Output:- [10,1,11,29,876,768,92]\n",
    "\n",
    "list1 = [10,1,11,1,29,876,768,10,11,1,92,29,876]\n",
    "list2 =[]\n",
    "for i in range(0,len(list1)):\n",
    "    if list1[i] not in list2:\n",
    "        list2.append(list1[i])\n",
    "        \n",
    "print(list2)   \n"
   ]
  },
  {
   "cell_type": "code",
   "execution_count": null,
   "metadata": {},
   "outputs": [],
   "source": []
  },
  {
   "cell_type": "code",
   "execution_count": 17,
   "metadata": {
    "id": "koYe4YCu94rh"
   },
   "outputs": [
    {
     "name": "stdout",
     "output_type": "stream",
     "text": [
      "Enter number of list element:10,20,30\n",
      "list is not empty\n"
     ]
    }
   ],
   "source": [
    "#Write a Python program to check a list is empty or not?\n",
    "#Input:- []\n",
    "#Output:- List is empty\n",
    "#Input:- [10,20,30]\n",
    "#Output:- List is not empty\n",
    "\n",
    "\n",
    "lis = eval(input(\"Enter number of list element:\"))\n",
    "\n",
    "\n",
    "if len(lis) == 0:\n",
    "    print(\"list is empty\")\n",
    "else:\n",
    "    print(\"list is not empty\")\n"
   ]
  },
  {
   "cell_type": "code",
   "execution_count": null,
   "metadata": {
    "id": "mES1WANa94u5"
   },
   "outputs": [],
   "source": [
    "#Write a Python program to copy a list using loop.\n",
    "#inp_lst = [10,10.20,10+20j, 'Python', [10,20], (10,20)]\n",
    "#out_lst = [10,10.20,10+20j, 'Python', [10,20], (10,20)]\n",
    "\n",
    "lst = [10,10.20,10+20j, 'Python', [10,20], (10,20)]\n",
    "lst1 = []\n",
    "print(lst)\n",
    "for i in lst:\n",
    "    lst1.append(i)\n",
    "print(lst1)\n"
   ]
  },
  {
   "cell_type": "code",
   "execution_count": 18,
   "metadata": {
    "id": "CpBh31WO94yi"
   },
   "outputs": [
    {
     "name": "stdout",
     "output_type": "stream",
     "text": [
      "['much', 'wood', 'would', 'woodchuck', 'chuck', 'could']\n"
     ]
    }
   ],
   "source": [
    "#Write a Python program to find the list of words that are longer than or equal to 4 from a given string.\n",
    "#Input:- 'How much wood would a woodchuck chuck if a woodchuck could chuck wood'\n",
    "#Output:- ['much', 'wood', 'would', 'woodchuck', 'chuck', 'could']\n",
    "#Note:- Duplicate should be avoided.\n",
    "\n",
    "str = 'How much wood would a woodchuck chuck if a woodchuck could chuck wood'\n",
    "lst = []\n",
    "lst1 = str.split(\" \")\n",
    "for i in range(len(lst1)):\n",
    "    if len(lst1[i]) >= 4 and lst1[i] not in lst: \n",
    "        lst.append(lst1[i])\n",
    "print(lst)\n"
   ]
  },
  {
   "cell_type": "code",
   "execution_count": null,
   "metadata": {
    "id": "YVfj0fgZ9416"
   },
   "outputs": [],
   "source": [
    "#Write a Python program which takes two list as input and returns True if they have at least 3 common elements.\n",
    "#inp_lst1 = [10,20,'Python', 10.20, 10+20j, [10,20,30], (10,20,30)]\n",
    "#inp_lst2 = [(10,20,30),1,20+3j,100.2, 10+20j, [10,20,30],'Python']\n",
    "#Output:- True\n",
    "\n",
    "lst1 = [10,20,'Python', 10.20, 10+20j, [10,20,30], (10,20,30)]\n",
    "lst2 = [(10,20,30),1,20+3j,100.2, 10+20j, [10,20,30],'Python']\n",
    "count = 0\n",
    "for i in range(len(lst1)):\n",
    "    for j in range(len(lst2)):\n",
    "        if lst1[i] == lst2[j]:\n",
    "            count += 1\n",
    "if count >= 3:\n",
    "    print(\"True\")\n",
    "else:\n",
    "    print(\"False\")\n"
   ]
  },
  {
   "cell_type": "code",
   "execution_count": 6,
   "metadata": {
    "id": "7vwc3pjR945O"
   },
   "outputs": [
    {
     "name": "stdout",
     "output_type": "stream",
     "text": [
      "0th elements:\n",
      "Enter element:0\n",
      "Enter element:0\n",
      "Enter element:0\n",
      "Enter element:0\n",
      "1th elements:\n",
      "Enter element:0\n",
      "Enter element:1\n",
      "Enter element:\n",
      "Enter element:3\n",
      "2th elements:\n",
      "Enter element:0\n",
      "Enter element:2\n",
      "Enter element:1\n",
      "Enter element:6\n",
      "3th elements:\n",
      "Enter element:0\n",
      "Enter element:2\n",
      "Enter element:5\n",
      "Enter element:6\n",
      "[['0', '0', '0', '0'], ['0', '1', '', '3'], ['0', '2', '1', '6'], ['0', '2', '5', '6']]\n"
     ]
    }
   ],
   "source": [
    "#Write a Python program to create a 4X4 2D matrix with below elements using loop and list comprehension both.\n",
    "#Output:- [[0,0,0,0],[0,1,2,3],[0,2,4,6],[0,3,6,9]]\n",
    "\n",
    "lst1 = []\n",
    "lst2 = []\n",
    "for i in range(0,4):\n",
    "    print(f\"{i}th elements:\")\n",
    "    lst1 = []\n",
    "    for j in range(0,4):\n",
    "        ele=input(\"Enter element:\")\n",
    "        lst1.append(ele)\n",
    "    lst2.append(lst1)\n",
    "    \n",
    "print(lst2)"
   ]
  },
  {
   "cell_type": "code",
   "execution_count": 7,
   "metadata": {
    "id": "Pxafor84948b"
   },
   "outputs": [
    {
     "name": "stdout",
     "output_type": "stream",
     "text": [
      "0th elements:\n",
      "0th elements:\n",
      "Enter element:0\n",
      "Enter element:0\n",
      "Enter element:0\n",
      "Enter element:0\n",
      "Enter element:0\n",
      "Enter element:0\n",
      "1th elements:\n",
      "Enter element:1\n",
      "Enter element:1\n",
      "Enter element:1\n",
      "Enter element:1\n",
      "Enter element:1\n",
      "Enter element:1\n",
      "2th elements:\n",
      "Enter element:1\n",
      "Enter element:1\n",
      "Enter element:1\n",
      "Enter element:1\n",
      "Enter element:1\n",
      "Enter element:1\n",
      "3th elements:\n",
      "Enter element:1\n",
      "Enter element:1\n",
      "Enter element:1\n",
      "Enter element:1\n",
      "Enter element:11\n",
      "Enter element:1\n",
      "1th elements:\n",
      "0th elements:\n",
      "Enter element:0\n",
      "Enter element:0\n",
      "Enter element:0\n",
      "Enter element:0\n",
      "Enter element:0\n",
      "Enter element:00\n",
      "1th elements:\n",
      "Enter element:00\n",
      "Enter element:0\n",
      "Enter element:0\n",
      "Enter element:0\n",
      "Enter element:0\n",
      "Enter element:0\n",
      "2th elements:\n",
      "Enter element:0\n",
      "Enter element:0\n",
      "Enter element:0\n",
      "Enter element:0\n",
      "Enter element:0\n",
      "Enter element:0\n",
      "3th elements:\n",
      "Enter element:0\n",
      "Enter element:0\n",
      "Enter element:0\n",
      "Enter element:0\n",
      "Enter element:0\n",
      "Enter element:0\n",
      "2th elements:\n",
      "0th elements:\n",
      "Enter element:0\n",
      "Enter element:0\n",
      "Enter element:0\n",
      "Enter element:0\n",
      "Enter element:0\n",
      "Enter element:0\n",
      "1th elements:\n",
      "Enter element:0\n",
      "Enter element:0\n",
      "Enter element:0\n",
      "Enter element:0\n",
      "Enter element:0\n",
      "Enter element:0\n",
      "2th elements:\n",
      "Enter element:0\n",
      "Enter element:0\n",
      "Enter element:0\n",
      "Enter element:0\n",
      "Enter element:0\n",
      "Enter element:0\n",
      "3th elements:\n",
      "Enter element:0\n",
      "Enter element:0\n",
      "Enter element:0\n",
      "Enter element:0\n",
      "Enter element:0\n",
      "Enter element:0\n",
      "[[['0', '0', '0', '0', '0', '0'], ['1', '1', '1', '1', '1', '1'], ['1', '1', '1', '1', '1', '1'], ['1', '1', '1', '1', '11', '1']], [['0', '0', '0', '0', '0', '00'], ['00', '0', '0', '0', '0', '0'], ['0', '0', '0', '0', '0', '0'], ['0', '0', '0', '0', '0', '0']], [['0', '0', '0', '0', '0', '0'], ['0', '0', '0', '0', '0', '0'], ['0', '0', '0', '0', '0', '0'], ['0', '0', '0', '0', '0', '0']]]\n"
     ]
    }
   ],
   "source": [
    "#Write a Python program to create a 3X4X6 3D matrix wiith below elements using loop\n",
    "#Output:- \n",
    "# [\n",
    "#     [[0,0,0,0,0,0],[0,0,0,0,0,0],[0,0,0,0,0,0],[0,0,0,0,0,0]],\n",
    "#     [[0,0,0,0,0,0],[1,1,1,1,1,1],[2,2,2,2,2,2],[3,3,3,3,3,3]],\n",
    "#     [[0,0,0,0,0,0],[2,2,2,2,2,2],[4,4,4,4,4,4],[6,6,6,6,6,6]]\n",
    "# ]\n",
    "\n",
    "lst1 = []\n",
    "lst2 = []\n",
    "lst3 = []\n",
    "\n",
    "for i in range(0,3):\n",
    "    print(f\"{i}th elements\")\n",
    "    lst2 = []\n",
    "    for j in range(0,4):\n",
    "        print(f\"{j}th elements\")\n",
    "        lst1 = []\n",
    "        for k in range(0,6):\n",
    "            ele=input(\"Enter element:\")\n",
    "            lst1.append(ele)\n",
    "            \n",
    "        lst2.append(lst1)\n",
    "        \n",
    "    lst3.append(lst2)\n",
    "print(lst3)\n"
   ]
  },
  {
   "cell_type": "code",
   "execution_count": 5,
   "metadata": {
    "id": "lYNv8gk794_p"
   },
   "outputs": [
    {
     "name": "stdout",
     "output_type": "stream",
     "text": [
      "[21, 87, 45, 33, 1]\n"
     ]
    }
   ],
   "source": [
    "#Write a Python program which takes a list of numbers as input and prints a new list after removing even numbers from it.\n",
    "#Input:- [10,21,22,98,87,45,33,1,2,100]\n",
    "#Output:- [21,87,45,33,1]\n",
    "lst1 = [10,21,22,98,87,45,33,1,2,100] \n",
    "lst2 = []\n",
    "for i in range(len(lst1)):\n",
    "    if lst1[i] % 2 != 0:\n",
    "        lst2.append(lst1[i])\n",
    "print(lst2)\n",
    "        \n",
    "\n"
   ]
  },
  {
   "cell_type": "code",
   "execution_count": 4,
   "metadata": {
    "id": "3BaCb-rB95B7"
   },
   "outputs": [
    {
     "name": "stdout",
     "output_type": "stream",
     "text": [
      "[33, 45, 2, 1, 98, 10, 21, 100, 22, 87]\n"
     ]
    }
   ],
   "source": [
    "#Write a Python program which takes a list from the user and prints it after reshuffling the elements of the list.\n",
    "#Input:- [10,21,22,98,87,45,33,1,2,100]\n",
    "#Output:- [1,87,21,10,33,2,100,45,98,22] (It may be any randon list but with same elements)\n",
    "\n",
    "import random as r\n",
    " \n",
    "list = [10,21,22,98,87,45,33,1,2,100]; \n",
    "r.shuffle(list)\n",
    "print(list)\n"
   ]
  },
  {
   "cell_type": "code",
   "execution_count": null,
   "metadata": {},
   "outputs": [],
   "source": []
  }
 ],
 "metadata": {
  "colab": {
   "name": "List_Assignment.ipynb",
   "provenance": []
  },
  "kernelspec": {
   "display_name": "Python 3 (ipykernel)",
   "language": "python",
   "name": "python3"
  },
  "language_info": {
   "codemirror_mode": {
    "name": "ipython",
    "version": 3
   },
   "file_extension": ".py",
   "mimetype": "text/x-python",
   "name": "python",
   "nbconvert_exporter": "python",
   "pygments_lexer": "ipython3",
   "version": "3.10.9"
  }
 },
 "nbformat": 4,
 "nbformat_minor": 1
}

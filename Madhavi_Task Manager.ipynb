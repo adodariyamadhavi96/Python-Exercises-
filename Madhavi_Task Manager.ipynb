{
 "cells": [
  {
   "cell_type": "code",
   "execution_count": 1,
   "id": "4349bbef",
   "metadata": {},
   "outputs": [],
   "source": [
    "def addATask():\n",
    "    addtask = str(input(\"Enter the task description:\"))\n",
    "    return addtask"
   ]
  },
  {
   "cell_type": "code",
   "execution_count": 2,
   "id": "1005353a",
   "metadata": {},
   "outputs": [],
   "source": [
    "def viewAlltask(taskmenu):\n",
    "    i=0\n",
    "    for item,value in taskmenu.items():\n",
    "        print(f\"{i}.{item}-{value}\")\n",
    "        i += 1\n",
    "    print(\"\\n\")"
   ]
  },
  {
   "cell_type": "code",
   "execution_count": 3,
   "id": "560b851b",
   "metadata": {},
   "outputs": [],
   "source": [
    "def makeTaskDone(no,taskmenu):\n",
    "    lst = []\n",
    "    for item in taskmenu.keys():\n",
    "        lst.append(item)\n",
    "    if no <= len(lst):\n",
    "        for item in range(len(lst)):\n",
    "            if item == no:\n",
    "                print(\"Task Marked as Done!!\") \n",
    "                print(\"\\n\")\n",
    "                return lst[item]  \n",
    "    else:\n",
    "        print(\"Enter valid Number for Task as Done!!\")\n"
   ]
  },
  {
   "cell_type": "code",
   "execution_count": 4,
   "id": "43ae0a9d",
   "metadata": {},
   "outputs": [],
   "source": [
    "def removeTask(no,taskmenu):\n",
    "    lst = []\n",
    "    for item in taskmenu.keys():\n",
    "        lst.append(item)\n",
    "    if no <= len(lst):\n",
    "        for item in range(len(lst)):\n",
    "            if item == no:\n",
    "                print(\"Task is Removed!!\") \n",
    "                print(\"\\n\")\n",
    "                return lst[item]\n",
    "    else:\n",
    "        print(\"Enter valid Number for Task Remove!!\")\n"
   ]
  },
  {
   "cell_type": "code",
   "execution_count": 5,
   "id": "526e1e3b",
   "metadata": {},
   "outputs": [],
   "source": [
    "def updateTask(no,taskmenu):\n",
    "    lst = []\n",
    "    for item in taskmenu.keys():\n",
    "        lst.append(item)\n",
    "    if no <= len(lst):    \n",
    "        for item in range (len(lst)):\n",
    "            if item == no:\n",
    "                print(\"Task is Updated!!\")\n",
    "                print(\"\\n\")\n",
    "                return lst[item]\n",
    "    else:\n",
    "        print(\"Enter valid Number for Task as Done!!\")\n"
   ]
  },
  {
   "cell_type": "code",
   "execution_count": 8,
   "id": "75e7c8c5",
   "metadata": {},
   "outputs": [],
   "source": [
    "def searchTask(name,taskmenu):\n",
    "    if name in taskmenu.keys():\n",
    "        for item,value in taskmenu.items():\n",
    "            if item.upper() == name.upper():\n",
    "                print(f\"Name of Task= {item} and Status = {value}\")\n",
    "        print(\"\\n\")\n",
    "    else:\n",
    "        print(\"Enter Proper Task name!!\")\n",
    "            \n",
    "            "
   ]
  },
  {
   "cell_type": "code",
   "execution_count": 12,
   "id": "6bfb3aed",
   "metadata": {},
   "outputs": [
    {
     "name": "stdout",
     "output_type": "stream",
     "text": [
      "Task Orgnizer Menu:\n",
      " 1. Add a Task \n",
      " 2. View All Tasks \n",
      " 3. Marked a Task as Done \n",
      " 4. Remove Task \n",
      " 5. Update Description \n",
      " 6. Search for a Task \n",
      " 7. Exit\n",
      "\n",
      "\n",
      "Enter Your Choice(1 to 6):-1\n",
      "Enter the task description:Make meggi\n",
      "Task Orgnizer Menu:\n",
      " 1. Add a Task \n",
      " 2. View All Tasks \n",
      " 3. Marked a Task as Done \n",
      " 4. Remove Task \n",
      " 5. Update Description \n",
      " 6. Search for a Task \n",
      " 7. Exit\n",
      "\n",
      "\n",
      "Enter Your Choice(1 to 6):-3\n",
      "Enter the number of task as done:-3\n",
      "Enter valid Number for Task as Done!!\n",
      "Task Orgnizer Menu:\n",
      " 1. Add a Task \n",
      " 2. View All Tasks \n",
      " 3. Marked a Task as Done \n",
      " 4. Remove Task \n",
      " 5. Update Description \n",
      " 6. Search for a Task \n",
      " 7. Exit\n",
      "\n",
      "\n",
      "Enter Your Choice(1 to 6):-7\n",
      "GoodBye!!!!!\n"
     ]
    }
   ],
   "source": [
    "taskmenu = {}\n",
    "while True:\n",
    "   \n",
    "    print(\"Task Orgnizer Menu:\\n 1. Add a Task \\n 2. View All Tasks \\n 3. Marked a Task as Done \\n 4. Remove Task \\n 5. Update Description \\n 6. Search for a Task \\n 7. Exit\")\n",
    "    print(\"\\n\")\n",
    "    choice = int(input(\"Enter Your Choice(1 to 6):-\"))\n",
    "    if choice == 1:\n",
    "        addtask = addATask()\n",
    "        taskmenu[addtask] = \"Panding\"\n",
    "    elif choice == 2:\n",
    "         viewtask = viewAlltask(taskmenu)\n",
    "    elif choice == 3:\n",
    "        numberofdone = int(input(\"Enter the number of task as done:-\"))\n",
    "        taskdone = makeTaskDone(numberofdone,taskmenu)\n",
    "        taskmenu[taskdone] = \"Done\"\n",
    "    elif choice == 4:\n",
    "        numberofremove = int(input(\"Enter the number of the task as removed:-\"))\n",
    "        remove = removeTask(numberofremove,taskmenu)\n",
    "        taskmenu.pop(remove)\n",
    "    elif choice == 5:\n",
    "        numberOfoldtask = int(input(\"Enter number of task to be updated:-\"))\n",
    "        newTask = str(input(\"Enter description of task to be updated:-\"))\n",
    "        update = updateTask(numberOfoldtask,taskmenu)\n",
    "        taskmenu[newTask] = taskmenu[update]\n",
    "        del taskmenu[update]\n",
    "    elif choice == 6:\n",
    "        searchName = str(input(\"Enter Task name to be Searched:-\"))\n",
    "        name = searchTask(searchName,taskmenu)\n",
    "    elif choice == 7:\n",
    "        break\n",
    "    else:\n",
    "        print(\"Invalid Choice!!!!\")\n",
    "print(\"GoodBye!!!!!\")"
   ]
  },
  {
   "cell_type": "code",
   "execution_count": null,
   "id": "220a26c7",
   "metadata": {},
   "outputs": [],
   "source": []
  },
  {
   "cell_type": "code",
   "execution_count": null,
   "id": "38eece43",
   "metadata": {},
   "outputs": [],
   "source": []
  }
 ],
 "metadata": {
  "kernelspec": {
   "display_name": "Python 3 (ipykernel)",
   "language": "python",
   "name": "python3"
  },
  "language_info": {
   "codemirror_mode": {
    "name": "ipython",
    "version": 3
   },
   "file_extension": ".py",
   "mimetype": "text/x-python",
   "name": "python",
   "nbconvert_exporter": "python",
   "pygments_lexer": "ipython3",
   "version": "3.10.9"
  }
 },
 "nbformat": 4,
 "nbformat_minor": 5
}

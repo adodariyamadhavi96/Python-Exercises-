{
 "cells": [
  {
   "cell_type": "code",
   "execution_count": null,
   "id": "2f22a258",
   "metadata": {},
   "outputs": [],
   "source": [
    "\"\"\"W. A P. which takes one number from 0 to 9 from the user and prints\n",
    "it in the word. And if the word is not from 0 to 9 then\n",
    "it should print that number is outside of the range and program should\n",
    "exit.\n",
    "For exapmple:-\n",
    "input = 1\n",
    "output = one\"\"\"\n",
    "\n",
    "number = int(input(\"Enter any number between 0 to 9:\"))\n",
    "if number == 1:\n",
    "    print(\"one\")\n",
    "elif number == 2:\n",
    "    print(\"two\")\n",
    "elif number == 3:\n",
    "    print(\"three\")\n",
    "elif number == 4:\n",
    "    print(\"four\")\n",
    "elif number == 5:\n",
    "    print(\"five\")\n",
    "elif number == 6:\n",
    "    print(\"six\")\n",
    "elif number == 7:\n",
    "    print(\"seven\")\n",
    "elif number == 8:\n",
    "    print(\"eight\")\n",
    "elif number == 9:\n",
    "    print(\"nine\")\n",
    "else:\n",
    "    print(\"number is outside of the range\")"
   ]
  },
  {
   "cell_type": "code",
   "execution_count": null,
   "id": "3ee7e4df",
   "metadata": {},
   "outputs": [],
   "source": []
  },
  {
   "cell_type": "code",
   "execution_count": 13,
   "id": "12085a42",
   "metadata": {},
   "outputs": [
    {
     "name": "stdout",
     "output_type": "stream",
     "text": [
      "Enter first number:25\n",
      "Enter second number:45\n",
      " * To add enter 1 \n",
      " * to subtract enter 2\n",
      " * To multiply enter 3 \n",
      " * To divide enter 4\n",
      " * To divide and find quotient enter 5 \n",
      " * To divide and find remainder enter 6 \n",
      " * To divide and find num1 to the power of num2 enter 7 \n",
      " * To Come out of the program enter 8\n",
      "Enter your choice:6\n",
      "25\n"
     ]
    }
   ],
   "source": [
    "\"\"\"W. A P. to implement calculator but the operation to be done and two\n",
    "numbers will be taken as input from user:-\n",
    "Operation console should show below:-\n",
    "Please select any one operation from below:-\n",
    "* To add enter 1\n",
    "* to subtract enter 2\n",
    "* To multiply enter 3\n",
    "* To divide enter 4\n",
    "* To divide and find quotient enter 5\n",
    "* To divide and find remainder enter 6\n",
    "* To divide and find num1 to the power of num2 enter 7\n",
    "* To Come out of the program enter 8\"\"\"\n",
    "\n",
    "\n",
    "num1 = int(input(\"Enter first number:\"))\n",
    "num2 = int(input(\"Enter second number:\"))\n",
    "print(\" * To add enter 1 \\n * to subtract enter 2\\n * To multiply enter 3 \\n * To divide enter 4\\n * To divide and find quotient enter 5 \\n * To divide and find remainder enter 6 \\n * To divide and find num1 to the power of num2 enter 7 \\n * To Come out of the program enter 8\")\n",
    "choice = int(input(\"Enter your choice:\"))\n",
    "\n",
    "if choice == 1:\n",
    "    print(num1+num2)\n",
    "    \n",
    "elif choice == 2:\n",
    "    print(num1-num2)\n",
    "    \n",
    "elif choice == 3:\n",
    "    print(num1*num2)\n",
    "    \n",
    "elif choice == 4:\n",
    "    print(num1/num2)\n",
    "    \n",
    "elif choice == 5:\n",
    "    print(num1//num2)\n",
    "    \n",
    "elif choice == 6:\n",
    "    print(num1%num2)\n",
    "    \n",
    "elif choice == 7:\n",
    "    print(num1**num2)\n",
    "    \n",
    "elif choice == 8:\n",
    "    print(\"End\")\n",
    "    "
   ]
  },
  {
   "cell_type": "code",
   "execution_count": 26,
   "id": "ec0565ec",
   "metadata": {},
   "outputs": [
    {
     "name": "stdout",
     "output_type": "stream",
     "text": [
      "Enter year for check it's leap year or not:1200\n",
      "1200 is leap year\n"
     ]
    }
   ],
   "source": [
    "\"\"\"W A P to check whether a year entered by user is an leap year or not ?\n",
    "Check with below input:-\n",
    "leap year:- 2012 , 1968 , 2004 , 1200 , 1600 , 2400\n",
    "Non-lear year:- 1971 , 2006 , 1700 , 1800 , 1900\"\"\"\n",
    "\n",
    "year = int(input(\"Enter year for check it's leap year or not:\"))\n",
    "if year % 4 == 0 and year % 400 == 0:\n",
    "    print(f\"{year} is leap year\")\n",
    "else:\n",
    "    print(f\"{year} is not leap year\")"
   ]
  },
  {
   "cell_type": "code",
   "execution_count": 29,
   "id": "60aa8841",
   "metadata": {},
   "outputs": [
    {
     "name": "stdout",
     "output_type": "stream",
     "text": [
      "Enter number:75869\n",
      "75869 is odd\n"
     ]
    }
   ],
   "source": [
    "\"\"\"W A P which takes one number from the user and checks whether it is\n",
    "an even or odd number?, If it even then prints number is\n",
    "even number else prints that number is odd number.\"\"\"\n",
    "num = int(input(\"Enter number:\"))\n",
    "\n",
    "if num % 2 == 0:\n",
    "    print (f\"{num} is even\")\n",
    "else:\n",
    "    print (f\"{num} is odd\")\n"
   ]
  },
  {
   "cell_type": "code",
   "execution_count": null,
   "id": "cf787ff8",
   "metadata": {},
   "outputs": [],
   "source": [
    "\"\"\"P which takes two numbers from the user and prints below output:-\n",
    "1 . num1 is greater than num2 if num1 is greater than num2\n",
    "2 . num1 is smaller than num2 if num1 is smaller than num2\n",
    "3 . num1 is equal to num2 if num1 and num2 are equal\n",
    "Note:- 1 . Do this problem using if - else\n",
    "2 . Do this using ternary operator\"\"\"\n",
    "\n",
    "#using if else\n",
    "\n",
    "num1 = int(input(\"Enter number one:\"))\n",
    "num2 = int(input(\"Enter number two\"))\n",
    "\n",
    "'''if num1 > num2:\n",
    "    print(f\"{num1} is greater then {num2}\")\n",
    "elif num1 < num2:\n",
    "    print(f\"{num1} is smaller then {num2}\")\n",
    "else:\n",
    "    print(f\"{num1} and {num2} are equl\")'''\n",
    "\n",
    "#using ternary operator\n",
    "#[on_true] if [expression] else [on_false]\n",
    "\n",
    "print(f\"{num1} is greater or eualto {num2}\" if num1>=num2 else f\"{num1} is smaller then {num2}\")\n"
   ]
  },
  {
   "cell_type": "code",
   "execution_count": 1,
   "id": "1b7a9db1",
   "metadata": {},
   "outputs": [
    {
     "name": "stdout",
     "output_type": "stream",
     "text": [
      "Enter number one:25\n",
      "Enter number two68\n",
      "Enter number three39\n",
      "68 is grater then 25 and 39\n"
     ]
    }
   ],
   "source": [
    "\"\"\"W A P which takes three numbers from the user and prints below\n",
    "output:-\n",
    "1 . num1 is greater than num2 and num3 if num1 is greater than num2\n",
    "and num3\n",
    "2 . num2 is greater than num1 and num3 if num2 is greater than num1\n",
    "and num3\n",
    "3 . num3 is greater than num1 and num2 if num3 is greater than num1\n",
    "and num2\n",
    "Note:- 1 . Do this problem using if - elif - else\n",
    "2 . Do this using ternary operator\n",
    "a = a if a>b else b\"\"\"\n",
    "\n",
    "a = int(input(\"Enter number one:\"))\n",
    "b = int(input(\"Enter number two\"))\n",
    "c = int(input(\"Enter number three\"))\n",
    "\n",
    "if a>b:\n",
    "    if a>c:\n",
    "        print(f\"{a} is grater then {b} and {c}\")\n",
    "    else:\n",
    "        print(f\"{c} is grater then {a} and {b}\")\n",
    "else: \n",
    "    if b>c:\n",
    "        print(f\"{b} is grater then {a} and {c}\")\n",
    "    else:\n",
    "        print(f\"{c} is grater then {a} and {b}\")\n",
    "        \n"
   ]
  },
  {
   "cell_type": "code",
   "execution_count": 3,
   "id": "fefc9331",
   "metadata": {},
   "outputs": [
    {
     "name": "stdout",
     "output_type": "stream",
     "text": [
      "55\n"
     ]
    }
   ],
   "source": [
    "\"\"\"Write a Python program to find the length of the my_str using loop:-\n",
    "Input:- 'Write a Python program to find the length of the my_str'\n",
    "Output:- 55\"\"\"\n",
    "\n",
    "str1 = 'Write a Python program to find the length of the my_str'\n",
    "count = 0\n",
    "for i in str1:\n",
    "    count += 1\n",
    "print(count)"
   ]
  },
  {
   "cell_type": "code",
   "execution_count": 4,
   "id": "a1448344",
   "metadata": {},
   "outputs": [
    {
     "name": "stdout",
     "output_type": "stream",
     "text": [
      "9\n"
     ]
    }
   ],
   "source": [
    "\"\"\"Write a Python program to find the total number of times letter 'p'\n",
    "is appeared in the below string using loop:-\n",
    "Input:- 'peter piper picked a peck of pickled peppers.\\n'\n",
    "Output:- 9\"\"\"\n",
    "\n",
    "str = 'peter piper picked a peck of pickled peppers.'\n",
    "cnt = 0\n",
    "for i in str:\n",
    "    if i == 'p':\n",
    "        cnt += 1\n",
    "print(cnt)"
   ]
  },
  {
   "cell_type": "code",
   "execution_count": 5,
   "id": "2d791a3d",
   "metadata": {},
   "outputs": [
    {
     "name": "stdout",
     "output_type": "stream",
     "text": [
      "peter piper picked a peck of pickled peppers.\n",
      "0\n",
      "6\n",
      "8\n",
      "12\n",
      "21\n",
      "29\n",
      "37\n",
      "39\n",
      "40\n"
     ]
    }
   ],
   "source": [
    "\"\"\"Write a Python Program, to print all the indexes of all occurences of\n",
    "letter 'p' appeared in the string using loop:-\n",
    "Input:- 'peter piper picked a peck of pickled peppers.'\n",
    "Output:-\n",
    "0\n",
    "6\n",
    "8\n",
    "12\n",
    "21\n",
    "29\n",
    "37\n",
    "39\n",
    "40\"\"\"\n",
    "\n",
    "print(str)\n",
    "for i in range(len(str)):\n",
    "    if str[i].find('p') !=-1:\n",
    "        print(i)"
   ]
  },
  {
   "cell_type": "code",
   "execution_count": 33,
   "id": "3e40e263",
   "metadata": {},
   "outputs": [
    {
     "name": "stdout",
     "output_type": "stream",
     "text": [
      "peter piper picked a peck of pickled peppers.\n",
      "['peter', 'piper', 'picked', 'a', 'peck', 'of', 'pickled', 'peppers.']\n"
     ]
    }
   ],
   "source": [
    "\"\"\"Write a python program to find below output using loop:-\n",
    "Input:- 'peter piper picked a peck of pickled peppers.'\n",
    "Output:- [ 'peter' , 'piper' , 'picked' , 'a' , 'peck' , 'of' , 'pickled' ,\n",
    "'peppers' ]\"\"\"\n",
    "\n",
    "print(str)\n",
    "list1 = []\n",
    "temp = ''\n",
    "for i in str:\n",
    "    if i != \" \":\n",
    "        temp += i\n",
    "    else:\n",
    "        list1.append(temp)\n",
    "        temp = ''\n",
    "list1.append(temp)\n",
    "print(list1)"
   ]
  },
  {
   "cell_type": "code",
   "execution_count": 34,
   "id": "2a20ecfe",
   "metadata": {},
   "outputs": [
    {
     "name": "stdout",
     "output_type": "stream",
     "text": [
      "['peppers.', 'pickled', 'of', 'peck', 'a', 'picked', 'piper', 'peter']\n",
      "peppers. pickled of peck a picked piper peter \n"
     ]
    }
   ],
   "source": [
    "\"\"\"Write a python program to find below output using loop:-\n",
    "Input:- 'peter piper picked a peck of pickled peppers.'\n",
    "Output:- 'peppers pickled of peck a picked piper peter'\"\"\"\n",
    "\n",
    "# print(str)\n",
    "# print(list1)\n",
    "list2 = list1[::-1]\n",
    "print(list2)\n",
    "temp = \"\"\n",
    "\n",
    "for i in list2:\n",
    "    temp += i\n",
    "    temp += \" \"\n",
    "print(temp)"
   ]
  },
  {
   "cell_type": "code",
   "execution_count": 53,
   "id": "edd77fa0",
   "metadata": {},
   "outputs": [
    {
     "name": "stdout",
     "output_type": "stream",
     "text": [
      "peter piper picked a peck of pickled peppers.\n",
      ".sreppep delkcip fo kcep a dekcip repip retep\n"
     ]
    }
   ],
   "source": [
    "\"\"\"Write a python program to find below output using loop:-\n",
    "Input:- 'peter piper picked a peck of pickled peppers.'\n",
    "Output:- '.sreppep delkcip fo kcep a dekcip repip retep'\"\"\"\n",
    "\n",
    "print(str)\n",
    "str1 = \"\"\n",
    "for i in str:\n",
    "    str1 = i + str1 \n",
    "print(str1)\n",
    "\n",
    "\n",
    "\n"
   ]
  },
  {
   "cell_type": "code",
   "execution_count": 60,
   "id": "77637f4e",
   "metadata": {},
   "outputs": [
    {
     "name": "stdout",
     "output_type": "stream",
     "text": [
      "retep repip dekcip a kcep fo delkcip .sreppep\n"
     ]
    }
   ],
   "source": [
    "\"\"\"Write a python program to find below output using loop:-\n",
    "Input:- 'peter piper picked a peck of pickled peppers.'\n",
    "Output:- 'retep repip dekcip a kcep fo delkcip sreppep'\"\"\"\n",
    "\n",
    "# print(str)\n",
    "str1 = \"\"\n",
    "temp = \"\"\n",
    "for i in str:\n",
    "    if i != \" \":\n",
    "        temp = i + temp\n",
    "#         print(temp)\n",
    "    else:\n",
    "        str1 = str1 + temp\n",
    "        temp = \"\"\n",
    "        str1 = str1 + \" \"\n",
    "str1 = str1 + temp        \n",
    "print(str1)"
   ]
  },
  {
   "cell_type": "code",
   "execution_count": 80,
   "id": "1366c075",
   "metadata": {},
   "outputs": [
    {
     "name": "stdout",
     "output_type": "stream",
     "text": [
      "Peter Piper Picked A Peck Of Pickled Peppers. \n"
     ]
    }
   ],
   "source": [
    "\"\"\"Write a python program to find below output using loop:-\n",
    "Input:- 'peter piper picked a peck of pickled peppers.'\n",
    "Output:- 'Peter Piper Picked A Peck Of Pickled Peppers'\"\"\"\n",
    "\n",
    "# print(list1)\n",
    "list2 = []\n",
    "for a,i in enumerate(list1):\n",
    "    list2.append(i.title())\n",
    "# print(list2) \n",
    "temp = ''\n",
    "for i in list2:\n",
    "    temp += i \n",
    "    temp += \" \"\n",
    "print(temp)"
   ]
  },
  {
   "cell_type": "code",
   "execution_count": null,
   "id": "b35375ed",
   "metadata": {},
   "outputs": [],
   "source": []
  }
 ],
 "metadata": {
  "kernelspec": {
   "display_name": "Python 3 (ipykernel)",
   "language": "python",
   "name": "python3"
  },
  "language_info": {
   "codemirror_mode": {
    "name": "ipython",
    "version": 3
   },
   "file_extension": ".py",
   "mimetype": "text/x-python",
   "name": "python",
   "nbconvert_exporter": "python",
   "pygments_lexer": "ipython3",
   "version": "3.10.9"
  }
 },
 "nbformat": 4,
 "nbformat_minor": 5
}

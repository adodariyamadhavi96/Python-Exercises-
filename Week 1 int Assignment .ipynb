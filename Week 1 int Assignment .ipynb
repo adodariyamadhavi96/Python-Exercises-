{
 "cells": [
  {
   "cell_type": "code",
   "execution_count": 1,
   "id": "40550af6",
   "metadata": {},
   "outputs": [
    {
     "name": "stdout",
     "output_type": "stream",
     "text": [
      "<class 'int'>\n",
      "2242551675952\n"
     ]
    }
   ],
   "source": [
    "#Declare an int value and store it in a variable.\n",
    "#Check the type and print the id of the same.\n",
    "\n",
    "val=12345\n",
    "print(type(val))\n",
    "print(id(val))"
   ]
  },
  {
   "cell_type": "code",
   "execution_count": 2,
   "id": "66d3e7e9",
   "metadata": {},
   "outputs": [
    {
     "name": "stdout",
     "output_type": "stream",
     "text": [
      "2242472510544\n",
      "2242472510544\n"
     ]
    }
   ],
   "source": [
    "'''Take one int value between 0 - 256.\n",
    "Assign it to two different variables.\n",
    "Check the id of both the variables. It should come the same. Check why?'''\n",
    "\n",
    "a = 28\n",
    "b = 28\n",
    "\n",
    "print(id(a))\n",
    "print(id(b))"
   ]
  },
  {
   "cell_type": "code",
   "execution_count": 3,
   "id": "907fd86f",
   "metadata": {},
   "outputs": [
    {
     "name": "stdout",
     "output_type": "stream",
     "text": [
      "sum of 25 and 7 is 32\n",
      "diffrence between 25 and 7 is 18\n",
      "product of 25 and 7 is 175\n",
      "value after dividing 25 and 7 is 3.5714285714285716\n",
      "remainder after dividing 25 and 7 is 4 \n",
      "quotient after dividing 25 and 7 is 3 \n",
      "result of 25 to the power of 7 is 6103515625 \n"
     ]
    }
   ],
   "source": [
    "'''Arithmetic Operations on integers\n",
    "Take two different integer values.\n",
    "Store them in two different variables.\n",
    "Do below operations on them:-\n",
    "Find sum of both numbers\n",
    "Find difference between them\n",
    "Find the product of both numbers.\n",
    "Find value after dividing first num with second number\n",
    "Find the remainder after dividing first number with second number\n",
    "Find the quotient after dividing first number with second number\n",
    "Find the result of the first num to the power of the second number.'''\n",
    "\n",
    "num1 = 25\n",
    "num2 = 7\n",
    "\n",
    "sum = num1 + num2\n",
    "print(f\"sum of {num1} and {num2} is {sum}\")\n",
    "\n",
    "diff = num1 - num2 \n",
    "print (f\"diffrence between {num1} and {num2} is {diff}\")\n",
    "\n",
    "mul = num1 * num2\n",
    "print (f\"product of {num1} and {num2} is {mul}\")\n",
    "\n",
    "div = num1 / num2\n",
    "print(f\"value after dividing {num1} and {num2} is {div}\")\n",
    "\n",
    "remd = num1 % num2\n",
    "print(f\"remainder after dividing {num1} and {num2} is {remd} \")\n",
    "\n",
    "quot = num1 // num2\n",
    "print(f\"quotient after dividing {num1} and {num2} is {quot} \")\n",
    "\n",
    "pov = num1 ** num2\n",
    "print(f\"result of {num1} to the power of {num2} is {pov} \")\n",
    "\n"
   ]
  },
  {
   "cell_type": "code",
   "execution_count": 14,
   "id": "0edb84d2",
   "metadata": {},
   "outputs": [
    {
     "name": "stdout",
     "output_type": "stream",
     "text": [
      "True\n",
      "False\n",
      "True\n",
      "False\n"
     ]
    }
   ],
   "source": [
    "'''Comparison Operators on integers\n",
    "Take two different integer values.\n",
    "Store them in two different variables.\n",
    "Do below operations on them:-\n",
    "Compare se two numbers with below operator:-\n",
    "Greater than, '>'\n",
    "Smaller than, '<'\n",
    "Greater than or equal to, '>='\n",
    "Less than or equal to, '<='\n",
    "Observe their output(return type should be boolean)'''\n",
    "\n",
    "value1 = 55\n",
    "value2 = 25\n",
    "\n",
    "grater = value1>value2\n",
    "print(grater)\n",
    "less = value1<value2\n",
    "print(less)\n",
    "graterorequal = value1>=value2\n",
    "print(graterorequal)\n",
    "lessorequal = value1<=value2\n",
    "print(lessorequal)\n",
    "\n"
   ]
  },
  {
   "cell_type": "code",
   "execution_count": 15,
   "id": "d8de8550",
   "metadata": {},
   "outputs": [
    {
     "name": "stdout",
     "output_type": "stream",
     "text": [
      "False\n",
      "True\n"
     ]
    }
   ],
   "source": [
    "'''Equality Operator\n",
    "Take two different integer values.\n",
    "Store them in two different variables.\n",
    "Equate them using equality operators (==, !=)\n",
    "Observe the output(return type should be boolean)'''\n",
    "\n",
    "var1 = 67\n",
    "var2 = 85\n",
    "\n",
    "equal = var1 == var2\n",
    "print(equal)\n",
    "\n",
    "notequal = var1 != var2\n",
    "print(notequal)"
   ]
  },
  {
   "cell_type": "code",
   "execution_count": 17,
   "id": "10b46b84",
   "metadata": {},
   "outputs": [
    {
     "name": "stdout",
     "output_type": "stream",
     "text": [
      "20\n",
      "0\n",
      "0\n",
      "0\n",
      "10\n",
      "20\n",
      "20\n",
      "0\n",
      "False\n",
      "True\n"
     ]
    }
   ],
   "source": [
    "'''Logical operators\n",
    "Observe the output of below code\n",
    "Cross check the output manually\n",
    "print ( 10 and 20 )\n",
    "#----------------------------------------->Output is 20\n",
    "print ( 0 and 20 )\n",
    "#----------------------------------------->Output is 0\n",
    "print ( 20 and 0 )\n",
    "#----------------------------------------->Output is 0\n",
    "print ( 0 and 0 )\n",
    "#----------------------------------------->Output is 0\n",
    "print ( 10 or 20 )\n",
    "#----------------------------------------->Output is 10\n",
    "print ( 0 or 20 )\n",
    "#----------------------------------------->Output is 20\n",
    "print ( 20 or 0 )\n",
    "#----------------------------------------->Output is 20\n",
    "print ( 0 or 0 )\n",
    "#----------------------------------------->Output is 0\n",
    "print ( not 10 )\n",
    "#----------------------------------------->Output is False\n",
    "print ( not 0 )\n",
    "#----------------------------------------->Output is True'''\n",
    "\n",
    "print ( 10 and 20 )\n",
    "print ( 0 and 20 )\n",
    "print ( 20 and 0 )\n",
    "\n",
    "print ( 0 and 0 )\n",
    "\n",
    "print ( 10 or 20 )\n",
    "\n",
    "print ( 0 or 20 )\n",
    "\n",
    "print ( 20 or 0 )\n",
    "print ( 0 or 0 )\n",
    "\n",
    "\n",
    "print ( not 10 )\n",
    "\n",
    "print ( not 0 )\n"
   ]
  },
  {
   "cell_type": "code",
   "execution_count": 18,
   "id": "d9f58367",
   "metadata": {},
   "outputs": [
    {
     "data": {
      "text/plain": [
       "'Bitwise Operators\\nDo below operations on the values provided below:-\\nBitwise and(&) -----------------------------------------> 10, 20\\n-------> Output is 0\\nBitwise or(|) -----------------------------------------> 10, 20\\n-------> Output is 30\\nBitwise(^) -----------------------------------------> 10, 20\\n-------> Output is 30\\nBitwise negation(~) ------------------------------------> 10\\n-------> Output is -11\\nBitwise left shift ------------------------------------> 10,2\\n-------> Output is 40\\nBitwise right shift ------------------------------------> 10,2\\n-------> Output is 2\\nCross check the output manually'"
      ]
     },
     "execution_count": 18,
     "metadata": {},
     "output_type": "execute_result"
    }
   ],
   "source": [
    "'''Bitwise Operators\n",
    "Do below operations on the values provided below:-\n",
    "Bitwise and(&) -----------------------------------------> 10, 20\n",
    "-------> Output is 0\n",
    "Bitwise or(|) -----------------------------------------> 10, 20\n",
    "-------> Output is 30\n",
    "Bitwise(^) -----------------------------------------> 10, 20\n",
    "-------> Output is 30\n",
    "Bitwise negation(~) ------------------------------------> 10\n",
    "-------> Output is -11\n",
    "Bitwise left shift ------------------------------------> 10,2\n",
    "-------> Output is 40\n",
    "Bitwise right shift ------------------------------------> 10,2\n",
    "-------> Output is 2\n",
    "Cross check the output manually'''\n"
   ]
  },
  {
   "cell_type": "code",
   "execution_count": 26,
   "id": "c9c05630",
   "metadata": {},
   "outputs": [
    {
     "name": "stdout",
     "output_type": "stream",
     "text": [
      "2242472509968\n",
      "2242472509968\n",
      "True\n",
      "False\n",
      "2242575047408\n",
      "2242575046992\n",
      "False\n",
      "True\n"
     ]
    }
   ],
   "source": [
    "'''What is the output of expression inside print statement. Cross check\n",
    "before running the program.'''\n",
    "a = 10\n",
    "b = 10\n",
    "print(id(a))\n",
    "print(id(b))\n",
    "print(a is b) #True or False?\n",
    "print(a is not b) #True or False?\n",
    "a = 1000\n",
    "b = 1000\n",
    "print(id(a))\n",
    "print(id(b))\n",
    "print(a is b) #True or False?\n",
    "print(a is not b) #True or False?\n"
   ]
  },
  {
   "cell_type": "code",
   "execution_count": 27,
   "id": "6a29a932",
   "metadata": {},
   "outputs": [
    {
     "name": "stdout",
     "output_type": "stream",
     "text": [
      "20\n"
     ]
    }
   ],
   "source": [
    "'''What is the output of expression inside print statement. Cross check\n",
    "before running the program.'''\n",
    "print ( 10 +( 10 * 32 )// 2 ** 5 & 20 +(~( -10 ))<< 2 )"
   ]
  },
  {
   "cell_type": "code",
   "execution_count": 28,
   "id": "1b66e042",
   "metadata": {},
   "outputs": [
    {
     "name": "stdout",
     "output_type": "stream",
     "text": [
      "True\n",
      "True\n",
      "True\n",
      "True\n",
      "True\n",
      "True\n"
     ]
    }
   ],
   "source": [
    "'''Membership operation\n",
    "in, not in are two membership operators and it returns boolean value'''\n",
    "print ( '2' in 'Python2.7.8' )\n",
    "print ( 10 in [ 10 , 10.20 , 10 + 20j , 'Python' ])\n",
    "print ( 10 in ( 10 , 10.20 , 10 + 20j , 'Python' ))\n",
    "print ( 2 in { 1 , 2 , 3 })\n",
    "print ( 3 in { 1 : 100 , 2 : 200 , 3 : 300 })\n",
    "print ( 10 in range ( 20 ))"
   ]
  },
  {
   "cell_type": "code",
   "execution_count": 31,
   "id": "d7cbf415",
   "metadata": {},
   "outputs": [
    {
     "name": "stdout",
     "output_type": "stream",
     "text": [
      "0b10011010010100\n",
      "0x2694\n",
      "0o23224\n"
     ]
    }
   ],
   "source": [
    "'''An integer can be represented in binary, octal or hexadecimal form.\n",
    "Declare one binary, one octal and one hexadecimal value and store them\n",
    "in three different variables.\n",
    "Convert 9876 to its binary, octal and hexadecimal equivalent and print\n",
    "their corresponding value.'''\n",
    "\n",
    "value = 9876\n",
    "print(bin(value))\n",
    "print(hex(value))\n",
    "print(oct(value))"
   ]
  },
  {
   "cell_type": "code",
   "execution_count": 32,
   "id": "715afdf9",
   "metadata": {},
   "outputs": [
    {
     "name": "stdout",
     "output_type": "stream",
     "text": [
      "80\n",
      "3870\n",
      "64222\n",
      "0b1010000\n",
      "0o7436\n",
      "0xfade\n",
      "0b1010000\n",
      "0b1111101011011110\n",
      "0o175336\n",
      "0o7436\n",
      "0x50\n",
      "0xfade\n"
     ]
    }
   ],
   "source": [
    "a = 0b1010000\n",
    "print (a)\n",
    "b = 0o7436\n",
    "print (b)\n",
    "c = 0xfade\n",
    "print (c)\n",
    "print ( bin ( 80 ))\n",
    "print ( oct ( 3870 ))\n",
    "print ( hex ( 64222 ))\n",
    "print ( bin ( 0b1010000))\n",
    "print ( bin ( 0xfade ))\n",
    "print ( oct ( 0xfade ))\n",
    "print ( oct ( 0o7436))\n",
    "print ( hex ( 0b1010000))\n",
    "print ( hex ( 0xfade ))"
   ]
  },
  {
   "cell_type": "code",
   "execution_count": null,
   "id": "36545d38",
   "metadata": {},
   "outputs": [],
   "source": []
  },
  {
   "cell_type": "code",
   "execution_count": null,
   "id": "f11cfd79",
   "metadata": {},
   "outputs": [],
   "source": []
  }
 ],
 "metadata": {
  "kernelspec": {
   "display_name": "Python 3 (ipykernel)",
   "language": "python",
   "name": "python3"
  },
  "language_info": {
   "codemirror_mode": {
    "name": "ipython",
    "version": 3
   },
   "file_extension": ".py",
   "mimetype": "text/x-python",
   "name": "python",
   "nbconvert_exporter": "python",
   "pygments_lexer": "ipython3",
   "version": "3.10.9"
  }
 },
 "nbformat": 4,
 "nbformat_minor": 5
}
